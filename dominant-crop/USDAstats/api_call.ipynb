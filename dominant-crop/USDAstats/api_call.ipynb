{
 "cells": [
  {
   "cell_type": "code",
   "execution_count": null,
   "metadata": {},
   "outputs": [],
   "source": [
    "#ignore the stuff here, we arnet using it"
   ]
  },
  {
   "cell_type": "code",
   "execution_count": 1,
   "metadata": {},
   "outputs": [
    {
     "name": "stdout",
     "output_type": "stream",
     "text": [
      "Requirement already satisfied: python-dotenv in /Library/Frameworks/Python.framework/Versions/3.12/lib/python3.12/site-packages (1.1.0)\n",
      "\n",
      "\u001b[1m[\u001b[0m\u001b[34;49mnotice\u001b[0m\u001b[1;39;49m]\u001b[0m\u001b[39;49m A new release of pip is available: \u001b[0m\u001b[31;49m24.3.1\u001b[0m\u001b[39;49m -> \u001b[0m\u001b[32;49m25.0.1\u001b[0m\n",
      "\u001b[1m[\u001b[0m\u001b[34;49mnotice\u001b[0m\u001b[1;39;49m]\u001b[0m\u001b[39;49m To update, run: \u001b[0m\u001b[32;49mpip3 install --upgrade pip\u001b[0m\n",
      "Note: you may need to restart the kernel to use updated packages.\n"
     ]
    }
   ],
   "source": [
    "pip install python-dotenv\n"
   ]
  },
  {
   "cell_type": "code",
   "execution_count": 2,
   "metadata": {},
   "outputs": [],
   "source": [
    "import os\n",
    "from dotenv import load_dotenv\n",
    "\n",
    "# Load environment variables from .env file\n",
    "load_dotenv()\n",
    "\n",
    "# Retrieve the API key\n",
    "api_key = os.getenv('API_KEY')"
   ]
  },
  {
   "cell_type": "code",
   "execution_count": 25,
   "metadata": {},
   "outputs": [],
   "source": [
    "import pandas as pd\n"
   ]
  },
  {
   "cell_type": "code",
   "execution_count": 13,
   "metadata": {},
   "outputs": [
    {
     "data": {
      "text/plain": [
       "'24DD4E29-B6FF-31DC-9066-43A4107B0C42'"
      ]
     },
     "execution_count": 13,
     "metadata": {},
     "output_type": "execute_result"
    }
   ],
   "source": [
    "api_key"
   ]
  },
  {
   "cell_type": "code",
   "execution_count": 15,
   "metadata": {},
   "outputs": [],
   "source": [
    "Commodities = ['ALMONDS', 'APPLES', 'AVOCADOS', 'BEANS', 'BLACKBERRIES', 'BROCCOLI', 'CHERRIES', 'CORN', 'GRAPES', 'LEMONS', 'LETTUCE', 'OLIVES', 'ORANGES', 'PEACHES', 'PEARS', 'PISTACHIOS', 'PLUMS', 'POTATOES', 'PLUMS', 'POTATOES', 'PRUNES', 'RASPBERRIES', 'RICE', 'SORGHUM', 'SPINACH', 'STRAWBERRIES', 'SUNFLOWER', 'TOMATOES', 'WALNUTS', 'WHEAT']"
   ]
  },
  {
   "cell_type": "code",
   "execution_count": null,
   "metadata": {},
   "outputs": [],
   "source": [
    "# Product\tLabor Cost\tTotal Cost\n",
    "# 0\talfalas\t837.00\t5961.00 check\n",
    "# 1\talmonds\t2104.00\t12308.00\n",
    "# 2\tapples\t4440.00\t7060.00\n",
    "# 3\tavocados\t1863.00\t10018.00\n",
    "# 4\tbeans\t569.22\t2886.88\n",
    "# 5\tblackberries\t28945.00\t62179.00\n",
    "# 6\tbroccoli\t3942.00\t14200.00\n",
    "# 7\tcherries\t1273.00\t2967.00\n",
    "# 8\tcorn\t409.00\t2285.00\n",
    "# 9\tgrape-raisins\t2480.00\t3646.00\n",
    "# 10\tgrapes-table\t24426.00\t31441.00\n",
    "# 11\tgrapes-wine\t9009.00\t20350.00\n",
    "# 12\tlemons\t1047.00\t5235.00\n",
    "# 13\tlettuce\t2514.00\t18274.00\n",
    "# 14\tolive-oil\t173.00\t561.00\n",
    "# 15\tolives\t595.00\t4668.00\n",
    "# 16\toranges\t482.00\t2800.00\n",
    "# 17\torchardgrass-hay\t83.00\t589.00\n",
    "# 18\tpastures\t0.00\t1469.00\n",
    "# 19\tpeaches\t3381.00\t7501.00\n",
    "# 20\tpears\t584.00\t5652.00\n",
    "# 21\tpistachios\t356.00\t2747.00\n",
    "# 22\tplums\t1275.00\t2570.00\n",
    "# 23\tpotatoes\t608.20\t3275.96\n",
    "# 24\tprunes\t624.00\t5110.00\n",
    "# 25\traspberries\t16685.00\t26881.00\n",
    "# 26\trice\t139.00\t1388.00\n",
    "# 27\tsorghum\t108.00\t1056.00\n",
    "# 28\tspinach\t722.00\t4336.00\n",
    "# 29\tstrawberries\t18843.00\t49900.00\n",
    "# 30\tsunflowers\t176.00\t771.00\n",
    "# 31\ttomatoes\t812.84\t6897.00\n",
    "# 32\twalnuts\t578.00\t5702.00\n",
    "# 33\twheat\t"
   ]
  },
  {
   "cell_type": "code",
   "execution_count": 139,
   "metadata": {},
   "outputs": [],
   "source": [
    "import requests\n",
    "import pandas as pd\n",
    "base_url = 'https://quickstats.nass.usda.gov/api/api_GET/'\n",
    "\n",
    "def fetch_data(commodity):\n",
    "    # Set up the parameters for the API request\n",
    "    params = {\n",
    "        'key': api_key,\n",
    "        'source_desc': 'CENSUS',\n",
    "        'sector_desc': 'CROPS',\n",
    "        'commodity_desc':commodity,\n",
    "        'statisticcat_desc': 'AREA HARVESTED',\n",
    "        'year': 2016,\n",
    "        'agg_level_desc': 'STATE',\n",
    "        'freq_desc': 'Annual',\n",
    "        'format': 'JSON'  # Desired response format\n",
    "    }\n",
    "\n",
    "    # Send the GET request\n",
    "    response = requests.get(base_url, params=params)\n",
    "\n",
    "    # Check if the request was successful\n",
    "    if response.status_code == 200:\n",
    "        data = response.json()  # Parse the JSON response\n",
    "        return data\n",
    "    else:\n",
    "        print(f\"Error fetching data {response.status_code}\")\n",
    "        print(\"HUH\")\n",
    "        return None\n",
    "    \n",
    "#stdrvmkcr\n"
   ]
  },
  {
   "cell_type": "code",
   "execution_count": 144,
   "metadata": {},
   "outputs": [],
   "source": [
    "corn = fetch_data('ALMONDS')\n",
    "total_df = pd.DataFrame(corn['data'])"
   ]
  },
  {
   "cell_type": "code",
   "execution_count": 145,
   "metadata": {},
   "outputs": [],
   "source": [
    "for i in range(1, len(Commodities)):\n",
    "    current = fetch_data(Commodities[i])\n",
    "    current_df = pd.DataFrame(current['data'])\n",
    "    total_df = pd.concat([total_df, current_df], axis=0, ignore_index=True)\n"
   ]
  },
  {
   "cell_type": "code",
   "execution_count": 146,
   "metadata": {},
   "outputs": [],
   "source": [
    "filter_df = total_df[total_df['unit_desc'] == 'ACRES']"
   ]
  },
  {
   "cell_type": "code",
   "execution_count": 147,
   "metadata": {},
   "outputs": [
    {
     "data": {
      "text/plain": [
       "Index(['state_ansi', 'week_ending', 'begin_code', 'county_code', 'county_name',\n",
       "       'end_code', 'Value', 'asd_code', 'country_name', 'state_fips_code',\n",
       "       'location_desc', 'reference_period_desc', 'state_alpha', 'county_ansi',\n",
       "       'domain_desc', 'util_practice_desc', 'congr_district_code', 'freq_desc',\n",
       "       'unit_desc', 'year', 'region_desc', 'group_desc', 'commodity_desc',\n",
       "       'CV (%)', 'domaincat_desc', 'short_desc', 'statisticcat_desc',\n",
       "       'source_desc', 'zip_5', 'class_desc', 'watershed_code',\n",
       "       'agg_level_desc', 'watershed_desc', 'country_code', 'state_name',\n",
       "       'load_time', 'asd_desc', 'prodn_practice_desc', 'sector_desc'],\n",
       "      dtype='object')"
      ]
     },
     "execution_count": 147,
     "metadata": {},
     "output_type": "execute_result"
    }
   ],
   "source": [
    "filter_df.columns"
   ]
  },
  {
   "cell_type": "code",
   "execution_count": 148,
   "metadata": {},
   "outputs": [],
   "source": [
    "filter_df.to_csv('api_2021.csv')"
   ]
  },
  {
   "cell_type": "code",
   "execution_count": null,
   "metadata": {},
   "outputs": [],
   "source": []
  }
 ],
 "metadata": {
  "kernelspec": {
   "display_name": "Python 3",
   "language": "python",
   "name": "python3"
  },
  "language_info": {
   "codemirror_mode": {
    "name": "ipython",
    "version": 3
   },
   "file_extension": ".py",
   "mimetype": "text/x-python",
   "name": "python",
   "nbconvert_exporter": "python",
   "pygments_lexer": "ipython3",
   "version": "3.12.8"
  }
 },
 "nbformat": 4,
 "nbformat_minor": 2
}
