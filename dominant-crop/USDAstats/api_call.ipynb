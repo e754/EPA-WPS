{
 "cells": [
  {
   "cell_type": "code",
   "execution_count": 1,
   "metadata": {},
   "outputs": [
    {
     "name": "stdout",
     "output_type": "stream",
     "text": [
      "Requirement already satisfied: python-dotenv in /Library/Frameworks/Python.framework/Versions/3.12/lib/python3.12/site-packages (1.1.0)\n",
      "\n",
      "\u001b[1m[\u001b[0m\u001b[34;49mnotice\u001b[0m\u001b[1;39;49m]\u001b[0m\u001b[39;49m A new release of pip is available: \u001b[0m\u001b[31;49m24.3.1\u001b[0m\u001b[39;49m -> \u001b[0m\u001b[32;49m25.0.1\u001b[0m\n",
      "\u001b[1m[\u001b[0m\u001b[34;49mnotice\u001b[0m\u001b[1;39;49m]\u001b[0m\u001b[39;49m To update, run: \u001b[0m\u001b[32;49mpip3 install --upgrade pip\u001b[0m\n",
      "Note: you may need to restart the kernel to use updated packages.\n"
     ]
    }
   ],
   "source": [
    "pip install python-dotenv\n"
   ]
  },
  {
   "cell_type": "code",
   "execution_count": 2,
   "metadata": {},
   "outputs": [
    {
     "name": "stdout",
     "output_type": "stream",
     "text": [
      "24DD4E29-B6FF-31DC-9066-43A4107B0C42\n"
     ]
    }
   ],
   "source": [
    "import os\n",
    "from dotenv import load_dotenv\n",
    "import pandas as pd\n",
    "import numpy as np\n",
    "\n",
    "# Load environment variables from .env file\n",
    "load_dotenv()\n",
    "\n",
    "# Retrieve the API key\n",
    "api_key = os.getenv('API_KEY')\n",
    "print(api_key)"
   ]
  },
  {
   "cell_type": "code",
   "execution_count": 3,
   "metadata": {},
   "outputs": [],
   "source": [
    "import requests\n",
    "import pandas as pd\n",
    "base_url = 'https://quickstats.nass.usda.gov/api/api_GET/'\n",
    "\n",
    "def fetch_data(year):\n",
    "    # Set up the parameters for the API request\n",
    "    \n",
    "    groups = ['FIELD CROPS', 'FRUIT & TREE NUTS', 'VEGETABLES']\n",
    "    states = ['CA', 'CO', 'ID', 'IL', 'IN', 'IA', 'KS', 'KY', 'ME', 'MD', 'MI',\n",
    "       'MN', 'MO', 'MT', 'NE', 'NV', 'NM', 'NY', 'NC', 'ND', 'OH', 'OR',\n",
    "       'PA', 'SD', 'UT', 'VA', 'WA', 'WI', 'WY', 'VT', 'MA', 'TX', 'AZ',\n",
    "       'AR', 'DE', 'FL', 'GA', 'LA', 'NJ', 'OK', 'RI', 'SC', 'TN', 'WV',\n",
    "       'CT', 'MS', 'AL', 'HI', 'NH', 'AK']\n",
    "    total_df = pd.DataFrame()\n",
    "    \n",
    "    for state in states:\n",
    "            field_crop_params = {\n",
    "                'key': api_key,\n",
    "                'source_desc': 'CENSUS',\n",
    "                'sector_desc': 'CROPS',\n",
    "                'statisticcat_desc': 'AREA HARVESTED',\n",
    "                'state_alpha':state,\n",
    "                # 'group_desc': group,\n",
    "                'year': year,\n",
    "                'agg_level_desc': 'STATE',\n",
    "                'freq_desc': 'Annual',\n",
    "                'format': 'JSON',  # Desired response format\n",
    "                'unit_desc': 'ACRES'\n",
    "            }\n",
    "            # Send the GET request\n",
    "            response = requests.get(base_url, params=field_crop_params)\n",
    "            # Check if the request was successful\n",
    "            if response.status_code == 200:\n",
    "                raw = response.json()  # Parse the JSON response\n",
    "                \n",
    "                df = pd.DataFrame(raw['data'])\n",
    "                total_df = pd.concat([df, total_df], ignore_index=True)\n",
    "            else:\n",
    "                print(state)\n",
    "                print(f\"Error fetching data {response.status_code}\")\n",
    "                print(\"HUH\")\n",
    "                return None\n",
    "\n",
    "    return total_df\n",
    "    \n",
    "    \n",
    "#stdrvmkcr\n"
   ]
  },
  {
   "cell_type": "code",
   "execution_count": 4,
   "metadata": {},
   "outputs": [],
   "source": [
    "def normalize_data(data):\n",
    "    total_df = data\n",
    "    filtered_df = total_df[total_df['short_desc'].str.endswith('ACRES HARVESTED')]\n",
    "    filtered_df['commodity_desc'] = filtered_df['commodity_desc'].str.replace('FRUIT TOTALS', 'FRUIT')  \n",
    "    filtered_df['commodity_desc'] = filtered_df['commodity_desc'].str.replace('FRUIT, OTHER', 'FRUIT')  \n",
    "    filtered_df['commodity_desc'] = filtered_df['commodity_desc'].str.replace('TREE NUT TOTALS', 'TREE NUT')  \n",
    "    filtered_df['commodity_desc'] = filtered_df['commodity_desc'].str.replace('TREE NUTS, OTHER', 'TREE NUT')  \n",
    "    filtered_df['commodity_desc'] = filtered_df['commodity_desc'].str.replace('BERRIES, OTHER', 'BERRIES')  \n",
    "    filtered_df['commodity_desc'] = filtered_df['commodity_desc'].str.replace('BERRY TOTALS', 'BERRIES')  \n",
    "    filtered_df['commodity_desc'] = filtered_df['commodity_desc'].str.replace('FIELD CROP', 'FIELD CROPS')  \n",
    "    filtered_df['commodity_desc'] = filtered_df['commodity_desc'].str.replace('FIELD CROP TOTALS', 'FIELD CROPS')  \n",
    "    filtered_df['commodity_desc'] = filtered_df['commodity_desc'].str.replace('FIELD CROPS, OTHER', 'FIELD CROPS')  \n",
    "    filtered_df['commodity_desc'] = filtered_df['commodity_desc'].str.replace('CITRUS TOTALS', 'CITRUS')  \n",
    "    filtered_df['commodity_desc'] = filtered_df['commodity_desc'].str.replace('TREE NUT TOTALS', 'TREE NUTS')  \n",
    "    filtered_df['commodity_desc'] = filtered_df['commodity_desc'].str.replace('TREE NUTS, OTHER', 'TREE NUTS')  \n",
    "\n",
    "    filtered_df['Value'] = filtered_df['Value'].replace({'(D)': np.nan}, regex=True)  # Replace (D) with NaN\n",
    "    filtered_df['Value'] = filtered_df['Value'].str.replace(',', '')  # Remove commas\n",
    "    filtered_df['Value'] = pd.to_numeric(filtered_df['Value'], errors='coerce')  # Convert to numeric, invalid parsing will become NaN\n",
    "    agreggate = filtered_df.copy()\n",
    "    agreggate = pd.DataFrame(agreggate)\n",
    "    \n",
    "    def normalize_commodity(row):\n",
    "    # Define a list of commodities to normalize\n",
    "        commodities_to_normalize =agreggate['commodity_desc'].unique()\n",
    "        \n",
    "        # Loop through each commodity and check if it exists in the row's 'Commodity' column\n",
    "        for commodity in commodities_to_normalize:\n",
    "            if commodity in row['commodity_desc']:\n",
    "                return commodity\n",
    "        \n",
    "        return row['commodity_desc']\n",
    "    # Apply the normalization function to the 'Commodity' column\n",
    "    agreggate['commodity_desc'] = agreggate.apply(normalize_commodity, axis=1)\n",
    "    # Group by relevant columns and sum the values\n",
    "    aggregated_df = (\n",
    "        agreggate.groupby(['state_name', 'commodity_desc'], as_index=False)\n",
    "        .agg({'Value': 'sum'})\n",
    "    )\n",
    "\n",
    "    # Pivot the table to have commodities as columns\n",
    "    pivot_df = aggregated_df.pivot(index='state_name', columns='commodity_desc', values='Value').reset_index()\n",
    "\n",
    "    pivot_df = pivot_df.fillna(0)\n",
    "\n",
    "    return pivot_df\n",
    "    "
   ]
  },
  {
   "cell_type": "code",
   "execution_count": 12,
   "metadata": {},
   "outputs": [
    {
     "name": "stdout",
     "output_type": "stream",
     "text": [
      "CA\n",
      "Error fetching data 400\n",
      "HUH\n",
      "2024 failure\n",
      "CA\n",
      "Error fetching data 400\n",
      "HUH\n",
      "2025 failure\n"
     ]
    }
   ],
   "source": [
    "for i in range(2024, 2026):\n",
    "    data = fetch_data(i)\n",
    "    if data is not None and not data.empty:\n",
    "        print(f\"{i} sucess\")\n",
    "        agreggated = normalize_data(data)\n",
    "        agreggated.to_csv(f\"{i}_agreggated_api\")\n",
    "    else:\n",
    "        print(f'{i} failure')"
   ]
  },
  {
   "cell_type": "code",
   "execution_count": null,
   "metadata": {},
   "outputs": [],
   "source": []
  }
 ],
 "metadata": {
  "kernelspec": {
   "display_name": "Python 3",
   "language": "python",
   "name": "python3"
  },
  "language_info": {
   "codemirror_mode": {
    "name": "ipython",
    "version": 3
   },
   "file_extension": ".py",
   "mimetype": "text/x-python",
   "name": "python",
   "nbconvert_exporter": "python",
   "pygments_lexer": "ipython3",
   "version": "3.13.1"
  }
 },
 "nbformat": 4,
 "nbformat_minor": 2
}
