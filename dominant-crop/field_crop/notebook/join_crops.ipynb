{
 "cells": [
  {
   "cell_type": "code",
   "execution_count": 1,
   "metadata": {},
   "outputs": [
    {
     "name": "stdout",
     "output_type": "stream",
     "text": [
      "Requirement already satisfied: pandas in /Library/Frameworks/Python.framework/Versions/3.13/lib/python3.13/site-packages (2.2.3)\n",
      "Requirement already satisfied: numpy>=1.26.0 in /Library/Frameworks/Python.framework/Versions/3.13/lib/python3.13/site-packages (from pandas) (2.2.0)\n",
      "Requirement already satisfied: python-dateutil>=2.8.2 in /Library/Frameworks/Python.framework/Versions/3.13/lib/python3.13/site-packages (from pandas) (2.9.0.post0)\n",
      "Requirement already satisfied: pytz>=2020.1 in /Library/Frameworks/Python.framework/Versions/3.13/lib/python3.13/site-packages (from pandas) (2024.2)\n",
      "Requirement already satisfied: tzdata>=2022.7 in /Library/Frameworks/Python.framework/Versions/3.13/lib/python3.13/site-packages (from pandas) (2024.2)\n",
      "Requirement already satisfied: six>=1.5 in /Library/Frameworks/Python.framework/Versions/3.13/lib/python3.13/site-packages (from python-dateutil>=2.8.2->pandas) (1.17.0)\n",
      "\n",
      "\u001b[1m[\u001b[0m\u001b[34;49mnotice\u001b[0m\u001b[1;39;49m]\u001b[0m\u001b[39;49m A new release of pip is available: \u001b[0m\u001b[31;49m24.3.1\u001b[0m\u001b[39;49m -> \u001b[0m\u001b[32;49m25.0\u001b[0m\n",
      "\u001b[1m[\u001b[0m\u001b[34;49mnotice\u001b[0m\u001b[1;39;49m]\u001b[0m\u001b[39;49m To update, run: \u001b[0m\u001b[32;49mpip install --upgrade pip\u001b[0m\n",
      "Note: you may need to restart the kernel to use updated packages.\n"
     ]
    }
   ],
   "source": [
    "pip install pandas"
   ]
  },
  {
   "cell_type": "code",
   "execution_count": null,
   "metadata": {},
   "outputs": [],
   "source": [
    "# Used 2023 planted/harvested for field crops\n",
    "# https://www.nass.usda.gov/Publications/Todays_Reports/reports/acrg0624.pdf\n",
    "\n",
    "#"
   ]
  },
  {
   "cell_type": "code",
   "execution_count": 2,
   "metadata": {},
   "outputs": [
    {
     "name": "stdout",
     "output_type": "stream",
     "text": [
      "sorghum\n",
      "soybean\n",
      "hay\n",
      "flaxseed\n",
      "canola\n",
      "safflower\n",
      "barley\n",
      "peanut\n",
      "proso_millet\n",
      "other_spring_wheat\n",
      "dry_edible_pea\n",
      "winter_wheat\n",
      "sugarbeet\n",
      "lentil\n",
      "rice\n",
      "chickpeas\n",
      "rye\n",
      "cotton\n",
      "sugarcane\n",
      "oat\n",
      "tobacco\n",
      "corn_planted\n",
      "sunflower\n",
      "wheat\n",
      "dry_edible_bean\n",
      "potato\n",
      "durum_wheat\n",
      "Merged table saved as merged_crops.csv\n"
     ]
    }
   ],
   "source": [
    "import os\n",
    "import pandas as pd\n",
    "\n",
    "# Define the full list of U.S. states (excluding \"United States\" aggregate row)\n",
    "us_states = [\n",
    "    \"Alabama\", \"Alaska\", \"Arizona\", \"Arkansas\", \"California\", \"Colorado\", \"Connecticut\", \"Delaware\",\n",
    "    \"Florida\", \"Georgia\", \"Hawaii\", \"Idaho\", \"Illinois\", \"Indiana\", \"Iowa\", \"Kansas\", \"Kentucky\",\n",
    "    \"Louisiana\", \"Maine\", \"Maryland\", \"Massachusetts\", \"Michigan\", \"Minnesota\", \"Mississippi\", \"Missouri\",\n",
    "    \"Montana\", \"Nebraska\", \"Nevada\", \"New Hampshire\", \"New Jersey\", \"New Mexico\", \"New York\",\n",
    "    \"North Carolina\", \"North Dakota\", \"Ohio\", \"Oklahoma\", \"Oregon\", \"Pennsylvania\", \"Rhode Island\",\n",
    "    \"South Carolina\", \"South Dakota\", \"Tennessee\", \"Texas\", \"Utah\", \"Vermont\", \"Virginia\",\n",
    "    \"Washington\", \"West Virginia\", \"Wisconsin\", \"Wyoming\"\n",
    "]\n",
    "\n",
    "# Create an initial dataframe with all states\n",
    "merged_df = pd.DataFrame({\"State\": us_states})\n",
    "\n",
    "# Folder containing CSV files (set to current directory if in the same folder)\n",
    "folder_path = \"field_crop\"\n",
    "\n",
    "# Get list of all CSV files in the folder\n",
    "csv_files = [f for f in os.listdir(folder_path) if f.endswith(\".csv\")]\n",
    "\n",
    "for file in csv_files:\n",
    "    file_path = os.path.join(folder_path, file)\n",
    "    crop_name = os.path.splitext(file)[0]  # Extract crop name from file name\n",
    "    print(crop_name)\n",
    "\n",
    "    # Read CSV file\n",
    "    df = pd.read_csv(file_path)\n",
    "\n",
    "    # Remove \"United States\" row\n",
    "    df = df[df[\"State\"] != \"United States\"]\n",
    "\n",
    "    # Select only the first (State) and second column\n",
    "    second_column_name = df.columns[1]  # Get the actual column name\n",
    "    df = df[[\"State\", second_column_name]].rename(columns={second_column_name: crop_name})\n",
    "\n",
    "    # Merge with the main dataframe\n",
    "    merged_df = pd.merge(merged_df, df, on=\"State\", how=\"left\")\n",
    "\n",
    "# Save merged table to a new CSV file\n",
    "merged_df.replace(\"\", None).fillna(0)\n",
    "merged_df.to_csv(\"merged_crops.csv\", index=False)\n",
    "\n",
    "print(\"Merged table saved as merged_crops.csv\")\n"
   ]
  },
  {
   "cell_type": "code",
   "execution_count": 5,
   "metadata": {},
   "outputs": [],
   "source": [
    "cleaned_data = merged_df.copy()"
   ]
  },
  {
   "cell_type": "code",
   "execution_count": 7,
   "metadata": {},
   "outputs": [
    {
     "name": "stderr",
     "output_type": "stream",
     "text": [
      "/var/folders/xj/3_cf3p513dxgf8tbpc4j_1j40000gn/T/ipykernel_20252/3400034941.py:3: FutureWarning: DataFrame.applymap has been deprecated. Use DataFrame.map instead.\n",
      "  cleaned_data.iloc[:, 1:] = cleaned_data.iloc[:, 1:].applymap(lambda x: 0 if isinstance(x, str) else x)\n"
     ]
    }
   ],
   "source": [
    "cleaned_data['tobacco']= merged_df['tobacco']/1000\n",
    "cleaned_data = cleaned_data.fillna(0)\n",
    "cleaned_data.iloc[:, 1:] = cleaned_data.iloc[:, 1:].applymap(lambda x: 0 if isinstance(x, str) else x)\n"
   ]
  },
  {
   "cell_type": "code",
   "execution_count": 9,
   "metadata": {},
   "outputs": [],
   "source": [
    "cleaned_data.to_csv(\"merged_crops.csv\", index=False)\n"
   ]
  }
 ],
 "metadata": {
  "kernelspec": {
   "display_name": "Python 3",
   "language": "python",
   "name": "python3"
  },
  "language_info": {
   "codemirror_mode": {
    "name": "ipython",
    "version": 3
   },
   "file_extension": ".py",
   "mimetype": "text/x-python",
   "name": "python",
   "nbconvert_exporter": "python",
   "pygments_lexer": "ipython3",
   "version": "3.12.8"
  }
 },
 "nbformat": 4,
 "nbformat_minor": 2
}
